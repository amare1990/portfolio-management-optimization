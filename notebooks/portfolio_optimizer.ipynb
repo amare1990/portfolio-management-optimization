{
 "cells": [
  {
   "cell_type": "code",
   "execution_count": 1,
   "id": "d70b9d3d-2ca5-498f-9da3-014bec627773",
   "metadata": {},
   "outputs": [],
   "source": [
    "import os, sys\n",
    "curr_dir = os.getcwd()\n",
    "parent_dir = os.path.dirname(curr_dir)\n",
    "sys.path.insert(0, parent_dir)"
   ]
  },
  {
   "cell_type": "code",
   "execution_count": 2,
   "id": "f9ccdb97-a939-44f1-93dc-16d49fe63c36",
   "metadata": {},
   "outputs": [
    {
     "name": "stderr",
     "output_type": "stream",
     "text": [
      "2025-03-04 13:37:20.520981: I tensorflow/tsl/cuda/cudart_stub.cc:28] Could not find cuda drivers on your machine, GPU will not be used.\n",
      "2025-03-04 13:37:20.631889: I tensorflow/tsl/cuda/cudart_stub.cc:28] Could not find cuda drivers on your machine, GPU will not be used.\n",
      "2025-03-04 13:37:20.633264: I tensorflow/core/platform/cpu_feature_guard.cc:182] This TensorFlow binary is optimized to use available CPU instructions in performance-critical operations.\n",
      "To enable the following instructions: AVX2 FMA, in other operations, rebuild TensorFlow with the appropriate compiler flags.\n",
      "2025-03-04 13:37:21.570149: W tensorflow/compiler/tf2tensorrt/utils/py_utils.cc:38] TF-TRT Warning: Could not find TensorRT\n"
     ]
    },
    {
     "name": "stdout",
     "output_type": "stream",
     "text": [
      "Generating forecast for: TSLA\n"
     ]
    },
    {
     "name": "stderr",
     "output_type": "stream",
     "text": [
      "/home/am/Documents/Software Development/10_Academy Training/week-11/portfolio-management-optimization/v-portfolio/lib/python3.8/site-packages/statsmodels/tsa/base/tsa_model.py:473: ValueWarning: A date index has been provided, but it has no associated frequency information and so will be ignored when e.g. forecasting.\n",
      "  self._init_dates(dates, freq)\n",
      "/home/am/Documents/Software Development/10_Academy Training/week-11/portfolio-management-optimization/v-portfolio/lib/python3.8/site-packages/statsmodels/tsa/base/tsa_model.py:473: ValueWarning: A date index has been provided, but it has no associated frequency information and so will be ignored when e.g. forecasting.\n",
      "  self._init_dates(dates, freq)\n",
      "/home/am/Documents/Software Development/10_Academy Training/week-11/portfolio-management-optimization/v-portfolio/lib/python3.8/site-packages/statsmodels/tsa/base/tsa_model.py:473: ValueWarning: A date index has been provided, but it has no associated frequency information and so will be ignored when e.g. forecasting.\n",
      "  self._init_dates(dates, freq)\n"
     ]
    },
    {
     "name": "stdout",
     "output_type": "stream",
     "text": [
      "Model saved successfully as /home/am/Documents/Software Development/10_Academy Training/week-11/portfolio-management-optimization/models/arima_model.pkl\n",
      "Class instantiated!\n",
      "\n",
      "****************************************************************************************************\n",
      "Loading models...\n",
      "Model loaded successfully from /home/am/Documents/Software Development/10_Academy Training/week-11/portfolio-management-optimization/models/arima_model.pkl\n",
      "Model loaded successfully from /home/am/Documents/Software Development/10_Academy Training/week-11/portfolio-management-optimization/models/sarima_model.pkl\n",
      "Model loaded successfully from /home/am/Documents/Software Development/10_Academy Training/week-11/portfolio-management-optimization/models/optimized_arima_model.pkl\n",
      "Model loaded successfully from /home/am/Documents/Software Development/10_Academy Training/week-11/portfolio-management-optimization/models/lstm_model.h5\n",
      "\n",
      "****************************************************************************************************\n",
      "Forecasting using ARIMA completed successfully!\n",
      "Data forecast by ARIMA\n",
      "2535    399.820812\n",
      "2536    400.265615\n",
      "2537    399.894419\n",
      "2538    400.452836\n",
      "2539    400.158819\n",
      "Name: ARIMA Forecast, dtype: float64\n",
      "\n",
      "****************************************************************************************************\n",
      "Forecast for TSLA:\n",
      " 2535    399.820812\n",
      "2536    400.265615\n",
      "2537    399.894419\n",
      "2538    400.452836\n",
      "2539    400.158819\n",
      "Name: ARIMA Forecast, dtype: float64\n",
      "Generating forecast for: BND\n"
     ]
    },
    {
     "name": "stderr",
     "output_type": "stream",
     "text": [
      "/home/am/Documents/Software Development/10_Academy Training/week-11/portfolio-management-optimization/v-portfolio/lib/python3.8/site-packages/statsmodels/tsa/base/tsa_model.py:836: ValueWarning: No supported index is available. Prediction results will be given with an integer index beginning at `start`.\n",
      "  return get_prediction_index(\n",
      "/home/am/Documents/Software Development/10_Academy Training/week-11/portfolio-management-optimization/v-portfolio/lib/python3.8/site-packages/statsmodels/tsa/base/tsa_model.py:836: FutureWarning: No supported index is available. In the next version, calling this method in a model without a supported index will result in an exception.\n",
      "  return get_prediction_index(\n",
      "/home/am/Documents/Software Development/10_Academy Training/week-11/portfolio-management-optimization/v-portfolio/lib/python3.8/site-packages/statsmodels/tsa/base/tsa_model.py:473: ValueWarning: A date index has been provided, but it has no associated frequency information and so will be ignored when e.g. forecasting.\n",
      "  self._init_dates(dates, freq)\n",
      "/home/am/Documents/Software Development/10_Academy Training/week-11/portfolio-management-optimization/v-portfolio/lib/python3.8/site-packages/statsmodels/tsa/base/tsa_model.py:473: ValueWarning: A date index has been provided, but it has no associated frequency information and so will be ignored when e.g. forecasting.\n",
      "  self._init_dates(dates, freq)\n",
      "/home/am/Documents/Software Development/10_Academy Training/week-11/portfolio-management-optimization/v-portfolio/lib/python3.8/site-packages/statsmodels/tsa/base/tsa_model.py:473: ValueWarning: A date index has been provided, but it has no associated frequency information and so will be ignored when e.g. forecasting.\n",
      "  self._init_dates(dates, freq)\n"
     ]
    },
    {
     "name": "stdout",
     "output_type": "stream",
     "text": [
      "Model saved successfully as /home/am/Documents/Software Development/10_Academy Training/week-11/portfolio-management-optimization/models/arima_model.pkl\n",
      "Class instantiated!\n",
      "\n",
      "****************************************************************************************************\n",
      "Loading models...\n",
      "Model loaded successfully from /home/am/Documents/Software Development/10_Academy Training/week-11/portfolio-management-optimization/models/arima_model.pkl\n",
      "Model loaded successfully from /home/am/Documents/Software Development/10_Academy Training/week-11/portfolio-management-optimization/models/sarima_model.pkl\n",
      "Model loaded successfully from /home/am/Documents/Software Development/10_Academy Training/week-11/portfolio-management-optimization/models/optimized_arima_model.pkl\n",
      "Model loaded successfully from /home/am/Documents/Software Development/10_Academy Training/week-11/portfolio-management-optimization/models/lstm_model.h5\n",
      "\n",
      "****************************************************************************************************\n",
      "Forecasting using ARIMA completed successfully!\n",
      "Data forecast by ARIMA\n",
      "2535    72.231172\n",
      "2536    72.242642\n",
      "2537    72.233443\n",
      "2538    72.233224\n",
      "2539    72.240262\n",
      "Name: ARIMA Forecast, dtype: float64\n",
      "\n",
      "****************************************************************************************************\n",
      "Forecast for BND:\n",
      " 2535    72.231172\n",
      "2536    72.242642\n",
      "2537    72.233443\n",
      "2538    72.233224\n",
      "2539    72.240262\n",
      "Name: ARIMA Forecast, dtype: float64\n",
      "Generating forecast for: SPY\n"
     ]
    },
    {
     "name": "stderr",
     "output_type": "stream",
     "text": [
      "/home/am/Documents/Software Development/10_Academy Training/week-11/portfolio-management-optimization/v-portfolio/lib/python3.8/site-packages/statsmodels/tsa/base/tsa_model.py:836: ValueWarning: No supported index is available. Prediction results will be given with an integer index beginning at `start`.\n",
      "  return get_prediction_index(\n",
      "/home/am/Documents/Software Development/10_Academy Training/week-11/portfolio-management-optimization/v-portfolio/lib/python3.8/site-packages/statsmodels/tsa/base/tsa_model.py:836: FutureWarning: No supported index is available. In the next version, calling this method in a model without a supported index will result in an exception.\n",
      "  return get_prediction_index(\n",
      "/home/am/Documents/Software Development/10_Academy Training/week-11/portfolio-management-optimization/v-portfolio/lib/python3.8/site-packages/statsmodels/tsa/base/tsa_model.py:473: ValueWarning: A date index has been provided, but it has no associated frequency information and so will be ignored when e.g. forecasting.\n",
      "  self._init_dates(dates, freq)\n",
      "/home/am/Documents/Software Development/10_Academy Training/week-11/portfolio-management-optimization/v-portfolio/lib/python3.8/site-packages/statsmodels/tsa/base/tsa_model.py:473: ValueWarning: A date index has been provided, but it has no associated frequency information and so will be ignored when e.g. forecasting.\n",
      "  self._init_dates(dates, freq)\n",
      "/home/am/Documents/Software Development/10_Academy Training/week-11/portfolio-management-optimization/v-portfolio/lib/python3.8/site-packages/statsmodels/tsa/base/tsa_model.py:473: ValueWarning: A date index has been provided, but it has no associated frequency information and so will be ignored when e.g. forecasting.\n",
      "  self._init_dates(dates, freq)\n"
     ]
    },
    {
     "name": "stdout",
     "output_type": "stream",
     "text": [
      "Model saved successfully as /home/am/Documents/Software Development/10_Academy Training/week-11/portfolio-management-optimization/models/arima_model.pkl\n",
      "Class instantiated!\n",
      "\n",
      "****************************************************************************************************\n",
      "Loading models...\n",
      "Model loaded successfully from /home/am/Documents/Software Development/10_Academy Training/week-11/portfolio-management-optimization/models/arima_model.pkl\n",
      "Model loaded successfully from /home/am/Documents/Software Development/10_Academy Training/week-11/portfolio-management-optimization/models/sarima_model.pkl\n",
      "Model loaded successfully from /home/am/Documents/Software Development/10_Academy Training/week-11/portfolio-management-optimization/models/optimized_arima_model.pkl\n",
      "Model loaded successfully from /home/am/Documents/Software Development/10_Academy Training/week-11/portfolio-management-optimization/models/lstm_model.h5\n",
      "\n",
      "****************************************************************************************************\n",
      "Forecasting using ARIMA completed successfully!\n",
      "Data forecast by ARIMA\n",
      "2535    605.021114\n",
      "2536    604.897895\n",
      "2537    604.993540\n",
      "2538    604.833565\n",
      "2539    604.872338\n",
      "Name: ARIMA Forecast, dtype: float64\n",
      "\n",
      "****************************************************************************************************\n",
      "Forecast for SPY:\n",
      " 2535    605.021114\n",
      "2536    604.897895\n",
      "2537    604.993540\n",
      "2538    604.833565\n",
      "2539    604.872338\n",
      "Name: ARIMA Forecast, dtype: float64\n"
     ]
    },
    {
     "name": "stderr",
     "output_type": "stream",
     "text": [
      "/home/am/Documents/Software Development/10_Academy Training/week-11/portfolio-management-optimization/v-portfolio/lib/python3.8/site-packages/statsmodels/tsa/base/tsa_model.py:836: ValueWarning: No supported index is available. Prediction results will be given with an integer index beginning at `start`.\n",
      "  return get_prediction_index(\n",
      "/home/am/Documents/Software Development/10_Academy Training/week-11/portfolio-management-optimization/v-portfolio/lib/python3.8/site-packages/statsmodels/tsa/base/tsa_model.py:836: FutureWarning: No supported index is available. In the next version, calling this method in a model without a supported index will result in an exception.\n",
      "  return get_prediction_index(\n"
     ]
    },
    {
     "name": "stdout",
     "output_type": "stream",
     "text": [
      "                  TSLA        BND         SPY\n",
      "2024-02-01  399.820812  72.231172  605.021114\n",
      "2024-02-02  400.265615  72.242642  604.897895\n",
      "2024-02-05  399.894419  72.233443  604.993540\n",
      "2024-02-06  400.452836  72.233224  604.833565\n",
      "2024-02-07  400.158819  72.240262  604.872338\n"
     ]
    }
   ],
   "source": [
    "# PortfolioOptimization Usage\n",
    "from scripts.portfolio_optimization import PortfolioOptimization\n",
    "tickers = [\"TSLA\", \"BND\", \"SPY\"]\n",
    "portfolio_optimizer = PortfolioOptimization(tickers, start_date=\"2024-02-01\")\n",
    "portfolio_optimizer.generate_forecasts()\n",
    "merged_forecast_df = portfolio_optimizer.merge_forecasts()\n",
    "\n",
    "print(merged_forecast_df.head())\n"
   ]
  },
  {
   "cell_type": "code",
   "execution_count": null,
   "id": "b05c62ff-4c6a-4d3c-9e35-098b00718c9a",
   "metadata": {},
   "outputs": [],
   "source": []
  }
 ],
 "metadata": {
  "kernelspec": {
   "display_name": "Python 3 (ipykernel)",
   "language": "python",
   "name": "python3"
  },
  "language_info": {
   "codemirror_mode": {
    "name": "ipython",
    "version": 3
   },
   "file_extension": ".py",
   "mimetype": "text/x-python",
   "name": "python",
   "nbconvert_exporter": "python",
   "pygments_lexer": "ipython3",
   "version": "3.8.10"
  }
 },
 "nbformat": 4,
 "nbformat_minor": 5
}
