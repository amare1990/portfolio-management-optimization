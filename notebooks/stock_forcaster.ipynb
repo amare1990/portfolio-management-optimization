{
 "cells": [
  {
   "cell_type": "code",
   "execution_count": 4,
   "id": "f5a1550e-6b74-48a1-8fc2-04ca2f6f7238",
   "metadata": {},
   "outputs": [],
   "source": [
    "import os, sys\n",
    "curr_dir = os.getcwd()\n",
    "parent_dir = os.path.dirname(curr_dir)\n",
    "sys.path.insert(0, parent_dir)"
   ]
  },
  {
   "cell_type": "code",
   "execution_count": 5,
   "id": "b212ed15-0b09-4c73-8017-e466dbadafca",
   "metadata": {},
   "outputs": [],
   "source": [
    "import pandas as pd"
   ]
  },
  {
   "cell_type": "code",
   "execution_count": 6,
   "id": "35903fe9-a222-4ff1-8aad-3a103b2b5038",
   "metadata": {},
   "outputs": [
    {
     "name": "stderr",
     "output_type": "stream",
     "text": [
      "2025-03-03 20:32:54.199002: I tensorflow/tsl/cuda/cudart_stub.cc:28] Could not find cuda drivers on your machine, GPU will not be used.\n",
      "2025-03-03 20:32:58.574810: I tensorflow/tsl/cuda/cudart_stub.cc:28] Could not find cuda drivers on your machine, GPU will not be used.\n",
      "2025-03-03 20:32:58.580146: I tensorflow/core/platform/cpu_feature_guard.cc:182] This TensorFlow binary is optimized to use available CPU instructions in performance-critical operations.\n",
      "To enable the following instructions: AVX2 FMA, in other operations, rebuild TensorFlow with the appropriate compiler flags.\n",
      "2025-03-03 20:33:09.105738: W tensorflow/compiler/tf2tensorrt/utils/py_utils.cc:38] TF-TRT Warning: Could not find TensorRT\n"
     ]
    }
   ],
   "source": [
    "from scripts.stock_forecasting import StockForecasting\n"
   ]
  },
  {
   "cell_type": "code",
   "execution_count": null,
   "id": "c1abda50-1eb2-4bd3-af18-2ccc609a455a",
   "metadata": {},
   "outputs": [],
   "source": [
    "# Initialize the StockForecasting clas and preprocess to run stock forcasting processes\n",
    "preprocessed_data = pd.read_csv(\"../data/preprocessed_data.csv\", index_col=0)\n",
    "ticker = \"TSLA\"\n",
    "stock_forecasting = StockForecasting(preprocessed_data, ticker)\n",
    "stock_forecasting.retrieve_data_by_ticker(ticker, inplace=True)\n",
    "stock_forecasting.split_data()"
   ]
  },
  {
   "cell_type": "code",
   "execution_count": null,
   "id": "e7cd75a4-cd25-4e9e-b148-624d96e84833",
   "metadata": {},
   "outputs": [],
   "source": [
    "# Train models\n",
    "stock_forecasting.arima_model()\n",
    "stock_forecasting.sarima_model()\n",
    "stock_forecasting.train_lstm(look_back=60, epochs=10, batch_size=32)"
   ]
  },
  {
   "cell_type": "code",
   "execution_count": null,
   "id": "e92d7211-28f9-495c-abc2-de967574108a",
   "metadata": {},
   "outputs": [],
   "source": [
    "# Optimize ARIMA\n",
    "stock_forecasting.optimize_arima()"
   ]
  },
  {
   "cell_type": "code",
   "execution_count": null,
   "id": "9699601b-9282-43be-8c52-c8eb9144ae83",
   "metadata": {},
   "outputs": [],
   "source": [
    "# Save all models\n",
    "stock_forecasting.save_all_models()"
   ]
  },
  {
   "cell_type": "code",
   "execution_count": null,
   "id": "f6d205f9-8cf0-41ce-9d98-2156997fdb89",
   "metadata": {},
   "outputs": [],
   "source": [
    "# Compare models\n",
    "stock_forecasting.compare_models()"
   ]
  }
 ],
 "metadata": {
  "kernelspec": {
   "display_name": "Python 3 (ipykernel)",
   "language": "python",
   "name": "python3"
  },
  "language_info": {
   "codemirror_mode": {
    "name": "ipython",
    "version": 3
   },
   "file_extension": ".py",
   "mimetype": "text/x-python",
   "name": "python",
   "nbconvert_exporter": "python",
   "pygments_lexer": "ipython3",
   "version": "3.8.10"
  }
 },
 "nbformat": 4,
 "nbformat_minor": 5
}
