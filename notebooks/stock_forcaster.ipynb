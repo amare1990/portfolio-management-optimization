{
 "cells": [
  {
   "cell_type": "code",
   "execution_count": 1,
   "id": "f5a1550e-6b74-48a1-8fc2-04ca2f6f7238",
   "metadata": {},
   "outputs": [],
   "source": [
    "import os, sys\n",
    "curr_dir = os.getcwd()\n",
    "parent_dir = os.path.dirname(curr_dir)\n",
    "sys.path.insert(0, parent_dir)"
   ]
  },
  {
   "cell_type": "code",
   "execution_count": 2,
   "id": "b212ed15-0b09-4c73-8017-e466dbadafca",
   "metadata": {},
   "outputs": [],
   "source": [
    "import pandas as pd"
   ]
  },
  {
   "cell_type": "code",
   "execution_count": 3,
   "id": "35903fe9-a222-4ff1-8aad-3a103b2b5038",
   "metadata": {},
   "outputs": [
    {
     "name": "stderr",
     "output_type": "stream",
     "text": [
      "2025-03-01 14:18:15.907668: I tensorflow/tsl/cuda/cudart_stub.cc:28] Could not find cuda drivers on your machine, GPU will not be used.\n",
      "2025-03-01 14:18:19.253193: I tensorflow/tsl/cuda/cudart_stub.cc:28] Could not find cuda drivers on your machine, GPU will not be used.\n",
      "2025-03-01 14:18:19.256586: I tensorflow/core/platform/cpu_feature_guard.cc:182] This TensorFlow binary is optimized to use available CPU instructions in performance-critical operations.\n",
      "To enable the following instructions: AVX2 FMA, in other operations, rebuild TensorFlow with the appropriate compiler flags.\n",
      "2025-03-01 14:18:31.376838: W tensorflow/compiler/tf2tensorrt/utils/py_utils.cc:38] TF-TRT Warning: Could not find TensorRT\n"
     ]
    }
   ],
   "source": [
    "from scripts.stock_forcasting import StockForecasting\n"
   ]
  },
  {
   "cell_type": "code",
   "execution_count": 4,
   "id": "c1abda50-1eb2-4bd3-af18-2ccc609a455a",
   "metadata": {},
   "outputs": [
    {
     "name": "stdout",
     "output_type": "stream",
     "text": [
      "Train data columns: Index(['Close TSLA'], dtype='object')\n",
      "Test data columns: Index(['Close TSLA'], dtype='object')\n"
     ]
    }
   ],
   "source": [
    "# Initialize the StockForecasting clas and preprocess to run stock forcasting processes\n",
    "preprocessed_data = pd.read_csv(\"../data/preprocessed_data.csv\", index_col=0)\n",
    "ticker = \"TSLA\"\n",
    "stock_forecasting = StockForecasting(preprocessed_data, ticker)\n",
    "stock_forecasting.retrieve_data_by_ticker(ticker, inplace=True)\n",
    "stock_forecasting.split_data()"
   ]
  },
  {
   "cell_type": "code",
   "execution_count": 5,
   "id": "e7cd75a4-cd25-4e9e-b148-624d96e84833",
   "metadata": {},
   "outputs": [
    {
     "name": "stderr",
     "output_type": "stream",
     "text": [
      "/home/am/Documents/Software Development/10_Academy Training/week-11/portfolio-management-optimization/v-portfolio/lib/python3.8/site-packages/statsmodels/tsa/base/tsa_model.py:473: ValueWarning: A date index has been provided, but it has no associated frequency information and so will be ignored when e.g. forecasting.\n",
      "  self._init_dates(dates, freq)\n",
      "/home/am/Documents/Software Development/10_Academy Training/week-11/portfolio-management-optimization/v-portfolio/lib/python3.8/site-packages/statsmodels/tsa/base/tsa_model.py:473: ValueWarning: A date index has been provided, but it has no associated frequency information and so will be ignored when e.g. forecasting.\n",
      "  self._init_dates(dates, freq)\n",
      "/home/am/Documents/Software Development/10_Academy Training/week-11/portfolio-management-optimization/v-portfolio/lib/python3.8/site-packages/statsmodels/tsa/base/tsa_model.py:473: ValueWarning: A date index has been provided, but it has no associated frequency information and so will be ignored when e.g. forecasting.\n",
      "  self._init_dates(dates, freq)\n",
      "/home/am/Documents/Software Development/10_Academy Training/week-11/portfolio-management-optimization/v-portfolio/lib/python3.8/site-packages/statsmodels/tsa/base/tsa_model.py:473: ValueWarning: A date index has been provided, but it has no associated frequency information and so will be ignored when e.g. forecasting.\n",
      "  self._init_dates(dates, freq)\n",
      "/home/am/Documents/Software Development/10_Academy Training/week-11/portfolio-management-optimization/v-portfolio/lib/python3.8/site-packages/statsmodels/tsa/base/tsa_model.py:473: ValueWarning: A date index has been provided, but it has no associated frequency information and so will be ignored when e.g. forecasting.\n",
      "  self._init_dates(dates, freq)\n"
     ]
    },
    {
     "name": "stdout",
     "output_type": "stream",
     "text": [
      "RUNNING THE L-BFGS-B CODE\n",
      "\n",
      "           * * *\n",
      "\n",
      "Machine precision = 2.220D-16\n",
      " N =            7     M =           10\n",
      "\n",
      "At X0         0 variables are exactly at the bounds\n",
      "\n",
      "At iterate    0    f= -2.69116D+00    |proj g|=  1.53289D+01\n"
     ]
    },
    {
     "name": "stderr",
     "output_type": "stream",
     "text": [
      " This problem is unconstrained.\n"
     ]
    },
    {
     "name": "stdout",
     "output_type": "stream",
     "text": [
      "\n",
      "At iterate    5    f= -2.71671D+00    |proj g|=  8.41330D-02\n",
      "\n",
      "At iterate   10    f= -2.71696D+00    |proj g|=  1.81460D+00\n",
      "\n",
      "At iterate   15    f= -2.71828D+00    |proj g|=  1.41869D-02\n",
      "\n",
      "At iterate   20    f= -2.71828D+00    |proj g|=  6.68573D-02\n",
      "\n",
      "At iterate   25    f= -2.71829D+00    |proj g|=  1.85005D-02\n",
      "\n",
      "           * * *\n",
      "\n",
      "Tit   = total number of iterations\n",
      "Tnf   = total number of function evaluations\n",
      "Tnint = total number of segments explored during Cauchy searches\n",
      "Skip  = number of BFGS updates skipped\n",
      "Nact  = number of active bounds at final generalized Cauchy point\n",
      "Projg = norm of the final projected gradient\n",
      "F     = final function value\n",
      "\n",
      "           * * *\n",
      "\n",
      "   N    Tit     Tnf  Tnint  Skip  Nact     Projg        F\n",
      "    7     26     40      1     0     0   1.024D-02  -2.718D+00\n",
      "  F =  -2.7182883584516229     \n",
      "\n",
      "CONVERGENCE: REL_REDUCTION_OF_F_<=_FACTR*EPSMCH             \n",
      "Epoch 1/10\n",
      "62/62 [==============================] - 12s 51ms/step - loss: 0.0054\n",
      "Epoch 2/10\n",
      "62/62 [==============================] - 2s 37ms/step - loss: 9.3020e-04\n",
      "Epoch 3/10\n",
      "62/62 [==============================] - 2s 40ms/step - loss: 7.8203e-04\n",
      "Epoch 4/10\n",
      "62/62 [==============================] - 2s 36ms/step - loss: 7.8869e-04\n",
      "Epoch 5/10\n",
      "62/62 [==============================] - 2s 37ms/step - loss: 6.0388e-04\n",
      "Epoch 6/10\n",
      "62/62 [==============================] - 2s 37ms/step - loss: 5.7898e-04\n",
      "Epoch 7/10\n",
      "62/62 [==============================] - 2s 36ms/step - loss: 5.5924e-04\n",
      "Epoch 8/10\n",
      "62/62 [==============================] - 2s 36ms/step - loss: 4.4262e-04\n",
      "Epoch 9/10\n",
      "62/62 [==============================] - 2s 36ms/step - loss: 4.4592e-04\n",
      "Epoch 10/10\n",
      "62/62 [==============================] - 2s 36ms/step - loss: 4.1194e-04\n"
     ]
    }
   ],
   "source": [
    "# Train models\n",
    "stock_forecasting.arima_model()\n",
    "stock_forecasting.sarima_model()\n",
    "stock_forecasting.train_lstm(look_back=60, epochs=10, batch_size=32)"
   ]
  },
  {
   "cell_type": "code",
   "execution_count": 6,
   "id": "e92d7211-28f9-495c-abc2-de967574108a",
   "metadata": {},
   "outputs": [
    {
     "name": "stdout",
     "output_type": "stream",
     "text": [
      "Performing stepwise search to minimize aic\n",
      " ARIMA(2,1,2)(1,0,1)[5] intercept   : AIC=-14609.869, Time=3.13 sec\n",
      " ARIMA(0,1,0)(0,0,0)[5] intercept   : AIC=-14616.570, Time=0.25 sec\n",
      " ARIMA(1,1,0)(1,0,0)[5] intercept   : AIC=-14615.074, Time=2.28 sec\n",
      " ARIMA(0,1,1)(0,0,1)[5] intercept   : AIC=-14615.256, Time=1.62 sec\n",
      " ARIMA(0,1,0)(0,0,0)[5]             : AIC=-14617.117, Time=0.18 sec\n",
      " ARIMA(0,1,0)(1,0,0)[5] intercept   : AIC=-14616.204, Time=1.74 sec\n",
      " ARIMA(0,1,0)(0,0,1)[5] intercept   : AIC=-14616.461, Time=4.12 sec\n",
      " ARIMA(0,1,0)(1,0,1)[5] intercept   : AIC=-14617.868, Time=3.05 sec\n",
      " ARIMA(0,1,0)(2,0,1)[5] intercept   : AIC=-14627.353, Time=4.71 sec\n",
      " ARIMA(0,1,0)(2,0,0)[5] intercept   : AIC=-14626.417, Time=3.77 sec\n",
      " ARIMA(0,1,0)(2,0,2)[5] intercept   : AIC=-14619.348, Time=12.61 sec\n",
      " ARIMA(0,1,0)(1,0,2)[5] intercept   : AIC=-14626.519, Time=6.76 sec\n",
      " ARIMA(1,1,0)(2,0,1)[5] intercept   : AIC=-14625.791, Time=10.66 sec\n",
      " ARIMA(0,1,1)(2,0,1)[5] intercept   : AIC=-14625.779, Time=16.74 sec\n",
      " ARIMA(1,1,1)(2,0,1)[5] intercept   : AIC=-14624.335, Time=9.88 sec\n",
      " ARIMA(0,1,0)(2,0,1)[5]             : AIC=-14627.378, Time=1.19 sec\n",
      " ARIMA(0,1,0)(1,0,1)[5]             : AIC=-14618.880, Time=1.32 sec\n",
      " ARIMA(0,1,0)(2,0,0)[5]             : AIC=-14626.642, Time=0.76 sec\n",
      " ARIMA(0,1,0)(2,0,2)[5]             : AIC=-14619.496, Time=2.51 sec\n",
      " ARIMA(0,1,0)(1,0,0)[5]             : AIC=-14616.676, Time=0.79 sec\n",
      " ARIMA(0,1,0)(1,0,2)[5]             : AIC=-14625.755, Time=1.37 sec\n",
      " ARIMA(1,1,0)(2,0,1)[5]             : AIC=-14625.682, Time=1.21 sec\n",
      " ARIMA(0,1,1)(2,0,1)[5]             : AIC=-14625.850, Time=3.15 sec\n",
      " ARIMA(1,1,1)(2,0,1)[5]             : AIC=-14624.377, Time=3.35 sec\n",
      "\n",
      "Best model:  ARIMA(0,1,0)(2,0,1)[5]          \n",
      "Total fit time: 97.523 seconds\n"
     ]
    }
   ],
   "source": [
    "# Optimize ARIMA\n",
    "stock_forecasting.optimize_arima()"
   ]
  },
  {
   "cell_type": "code",
   "execution_count": 7,
   "id": "9699601b-9282-43be-8c52-c8eb9144ae83",
   "metadata": {},
   "outputs": [
    {
     "name": "stdout",
     "output_type": "stream",
     "text": [
      "Model saved successfully as /home/am/Documents/Software Development/10_Academy Training/week-11/portfolio-management-optimization/models/arima_model.pkl\n",
      "Model saved successfully as /home/am/Documents/Software Development/10_Academy Training/week-11/portfolio-management-optimization/models/sarima_model.pkl\n",
      "Model saved successfully as /home/am/Documents/Software Development/10_Academy Training/week-11/portfolio-management-optimization/models/optimized_arima_model.pkl\n"
     ]
    },
    {
     "name": "stderr",
     "output_type": "stream",
     "text": [
      "/home/am/Documents/Software Development/10_Academy Training/week-11/portfolio-management-optimization/v-portfolio/lib/python3.8/site-packages/keras/src/engine/training.py:3000: UserWarning: You are saving your model as an HDF5 file via `model.save()`. This file format is considered legacy. We recommend using instead the native Keras format, e.g. `model.save('my_model.keras')`.\n",
      "  saving_api.save_model(\n"
     ]
    },
    {
     "name": "stdout",
     "output_type": "stream",
     "text": [
      "Model saved successfully as /home/am/Documents/Software Development/10_Academy Training/week-11/portfolio-management-optimization/models/lstm_model.h5\n"
     ]
    }
   ],
   "source": [
    "# Save all models\n",
    "stock_forecasting.save_all_models()"
   ]
  },
  {
   "cell_type": "code",
   "execution_count": 8,
   "id": "f6d205f9-8cf0-41ce-9d98-2156997fdb89",
   "metadata": {},
   "outputs": [
    {
     "name": "stdout",
     "output_type": "stream",
     "text": [
      "Evaluating LSTM Model:\n",
      "16/16 [==============================] - 7s 21ms/step\n",
      "LSTM Model - MAE: 0.023305565898402675, RMSE: 0.031050600148757147, MAPE: 4.893374048906327\n",
      "Evaluating ARIMA Model:\n",
      "ARIMA Model - MAE: 0.013352822722599939, RMSE: 0.019050567220395782, MAPE: 2.759773146386647\n"
     ]
    }
   ],
   "source": [
    "# Compare models\n",
    "stock_forecasting.compare_models()"
   ]
  }
 ],
 "metadata": {
  "kernelspec": {
   "display_name": "Python 3 (ipykernel)",
   "language": "python",
   "name": "python3"
  },
  "language_info": {
   "codemirror_mode": {
    "name": "ipython",
    "version": 3
   },
   "file_extension": ".py",
   "mimetype": "text/x-python",
   "name": "python",
   "nbconvert_exporter": "python",
   "pygments_lexer": "ipython3",
   "version": "3.8.10"
  }
 },
 "nbformat": 4,
 "nbformat_minor": 5
}
